{
  "nbformat": 4,
  "nbformat_minor": 0,
  "metadata": {
    "colab": {
      "provenance": [],
      "authorship_tag": "ABX9TyM3bQySKoEVhzdZneuO0leP",
      "include_colab_link": true
    },
    "kernelspec": {
      "name": "python3",
      "display_name": "Python 3"
    },
    "language_info": {
      "name": "python"
    }
  },
  "cells": [
    {
      "cell_type": "markdown",
      "metadata": {
        "id": "view-in-github",
        "colab_type": "text"
      },
      "source": [
        "<a href=\"https://colab.research.google.com/github/MykhailoMykhailiuk/DS-HW/blob/main/Hw7.ipynb\" target=\"_parent\"><img src=\"https://colab.research.google.com/assets/colab-badge.svg\" alt=\"Open In Colab\"/></a>"
      ]
    },
    {
      "cell_type": "code",
      "execution_count": 1,
      "metadata": {
        "colab": {
          "base_uri": "https://localhost:8080/"
        },
        "id": "WDObv6xrrGZq",
        "outputId": "abde6e13-2f41-44d6-a795-87f6b5db9c18"
      },
      "outputs": [
        {
          "output_type": "stream",
          "name": "stdout",
          "text": [
            "Collecting scikit-surprise\n",
            "  Downloading scikit_surprise-1.1.4.tar.gz (154 kB)\n",
            "\u001b[?25l     \u001b[90m━━━━━━━━━━━━━━━━━━━━━━━━━━━━━━━━━━━━━━━━\u001b[0m \u001b[32m0.0/154.4 kB\u001b[0m \u001b[31m?\u001b[0m eta \u001b[36m-:--:--\u001b[0m\r\u001b[2K     \u001b[90m━━━━━━━━━━━━━━━━━━━━━━━━━━━━━━━━━━━━━━━━\u001b[0m \u001b[32m154.4/154.4 kB\u001b[0m \u001b[31m7.7 MB/s\u001b[0m eta \u001b[36m0:00:00\u001b[0m\n",
            "\u001b[?25h  Installing build dependencies ... \u001b[?25l\u001b[?25hdone\n",
            "  Getting requirements to build wheel ... \u001b[?25l\u001b[?25hdone\n",
            "  Preparing metadata (pyproject.toml) ... \u001b[?25l\u001b[?25hdone\n",
            "Requirement already satisfied: joblib>=1.2.0 in /usr/local/lib/python3.10/dist-packages (from scikit-surprise) (1.4.2)\n",
            "Requirement already satisfied: numpy>=1.19.5 in /usr/local/lib/python3.10/dist-packages (from scikit-surprise) (1.26.4)\n",
            "Requirement already satisfied: scipy>=1.6.0 in /usr/local/lib/python3.10/dist-packages (from scikit-surprise) (1.13.1)\n",
            "Building wheels for collected packages: scikit-surprise\n",
            "  Building wheel for scikit-surprise (pyproject.toml) ... \u001b[?25l\u001b[?25hdone\n",
            "  Created wheel for scikit-surprise: filename=scikit_surprise-1.1.4-cp310-cp310-linux_x86_64.whl size=2357277 sha256=6caf903743ceee4d847cb994124758e9318b68e242556460c1b2a90738a62d11\n",
            "  Stored in directory: /root/.cache/pip/wheels/4b/3f/df/6acbf0a40397d9bf3ff97f582cc22fb9ce66adde75bc71fd54\n",
            "Successfully built scikit-surprise\n",
            "Installing collected packages: scikit-surprise\n",
            "Successfully installed scikit-surprise-1.1.4\n"
          ]
        }
      ],
      "source": [
        "!pip install scikit-surprise"
      ]
    },
    {
      "cell_type": "code",
      "source": [
        "import pandas as pd\n",
        "from surprise import Dataset, SVD, SVDpp, NMF\n",
        "from surprise.model_selection import cross_validate, GridSearchCV"
      ],
      "metadata": {
        "id": "Hb9Lxj1lsNlZ"
      },
      "execution_count": 2,
      "outputs": []
    },
    {
      "cell_type": "code",
      "source": [
        "data = Dataset.load_builtin('ml-100k', prompt=True)"
      ],
      "metadata": {
        "id": "A1mMh2i1srGf",
        "colab": {
          "base_uri": "https://localhost:8080/"
        },
        "outputId": "3c2c31e4-7890-4d1d-fb08-7848b1a9445d"
      },
      "execution_count": 3,
      "outputs": [
        {
          "output_type": "stream",
          "name": "stdout",
          "text": [
            "Dataset ml-100k could not be found. Do you want to download it? [Y/n] Y\n",
            "Trying to download dataset from https://files.grouplens.org/datasets/movielens/ml-100k.zip...\n",
            "Done! Dataset ml-100k has been saved to /root/.surprise_data/ml-100k\n"
          ]
        }
      ]
    },
    {
      "cell_type": "code",
      "source": [
        "param_grid = {\n",
        "    'n_factors': [10, 20, 30],\n",
        "    'n_epochs': [15, 25, 35],\n",
        "    'lr_all': [0.002, 0.005],\n",
        "    'reg_all': [0.02, 0.1]\n",
        "}\n",
        "\n",
        "def grid_search(alg, param_grid):\n",
        "    gs = GridSearchCV(alg, param_grid, measures=['rmse', 'mae'], cv=5)\n",
        "    gs.fit(data)\n",
        "    return gs"
      ],
      "metadata": {
        "id": "2rNCZv4Yg9qr"
      },
      "execution_count": 21,
      "outputs": []
    },
    {
      "cell_type": "markdown",
      "source": [
        "**SVD**"
      ],
      "metadata": {
        "id": "ELIoaTTgvV8g"
      }
    },
    {
      "cell_type": "code",
      "source": [
        "svd = grid_search(SVD, param_grid)\n",
        "print(f\"Best parameters: {svd.best_params['rmse']}\")\n",
        "best_svd = svd.best_estimator['rmse']\n",
        "cross_validate(best_svd, data, measures=['RMSE'], cv=5, verbose=True)"
      ],
      "metadata": {
        "colab": {
          "base_uri": "https://localhost:8080/"
        },
        "id": "o3C3ywFriAGw",
        "outputId": "c1e52afc-3091-4ce8-fbc8-92df5308796e"
      },
      "execution_count": 27,
      "outputs": [
        {
          "output_type": "stream",
          "name": "stdout",
          "text": [
            "Best parameters: {'n_factors': 10, 'n_epochs': 35}\n",
            "Evaluating RMSE of algorithm SVD on 5 split(s).\n",
            "\n",
            "                  Fold 1  Fold 2  Fold 3  Fold 4  Fold 5  Mean    Std     \n",
            "RMSE (testset)    0.9355  0.9324  0.9393  0.9238  0.9407  0.9343  0.0060  \n",
            "Fit time          1.56    1.26    1.37    1.49    1.38    1.41    0.10    \n",
            "Test time         0.15    0.12    0.12    0.35    0.19    0.19    0.08    \n"
          ]
        },
        {
          "output_type": "execute_result",
          "data": {
            "text/plain": [
              "{'test_rmse': array([0.93550009, 0.93243893, 0.93932329, 0.92379155, 0.94065827]),\n",
              " 'fit_time': (1.557548999786377,\n",
              "  1.2597146034240723,\n",
              "  1.3664956092834473,\n",
              "  1.489171028137207,\n",
              "  1.375535249710083),\n",
              " 'test_time': (0.15372514724731445,\n",
              "  0.12070274353027344,\n",
              "  0.12341141700744629,\n",
              "  0.3478355407714844,\n",
              "  0.19339776039123535)}"
            ]
          },
          "metadata": {},
          "execution_count": 27
        }
      ]
    },
    {
      "cell_type": "markdown",
      "source": [
        "**SVDpp**"
      ],
      "metadata": {
        "id": "mL6aGOul0emX"
      }
    },
    {
      "cell_type": "code",
      "source": [
        "svdpp = grid_search(SVDpp, param_grid)\n",
        "print(f\"Best parameters: {svd.best_params['rmse']}\")\n",
        "best_svdpp = svdpp.best_estimator['rmse']\n",
        "cross_validate(best_svdpp, data, measures=['RMSE'], cv=5, verbose=True)"
      ],
      "metadata": {
        "colab": {
          "base_uri": "https://localhost:8080/"
        },
        "id": "yNK1yIbVo8Us",
        "outputId": "587ea43c-9bf2-446c-ee02-3140326fa4fd"
      },
      "execution_count": 29,
      "outputs": [
        {
          "output_type": "stream",
          "name": "stdout",
          "text": [
            "Best parameters: {'n_factors': 10, 'n_epochs': 35}\n",
            "Evaluating RMSE of algorithm SVDpp on 5 split(s).\n",
            "\n",
            "                  Fold 1  Fold 2  Fold 3  Fold 4  Fold 5  Mean    Std     \n",
            "RMSE (testset)    0.9250  0.9274  0.9127  0.9187  0.9146  0.9197  0.0057  \n",
            "Fit time          20.16   20.21   20.12   20.24   19.85   20.11   0.14    \n",
            "Test time         5.60    5.83    5.98    5.75    6.53    5.94    0.32    \n"
          ]
        },
        {
          "output_type": "execute_result",
          "data": {
            "text/plain": [
              "{'test_rmse': array([0.924997  , 0.92736654, 0.91274321, 0.91866312, 0.91462374]),\n",
              " 'fit_time': (20.16061043739319,\n",
              "  20.209139108657837,\n",
              "  20.116336345672607,\n",
              "  20.240589380264282,\n",
              "  19.847493171691895),\n",
              " 'test_time': (5.601269721984863,\n",
              "  5.8344621658325195,\n",
              "  5.981809616088867,\n",
              "  5.75383734703064,\n",
              "  6.532452344894409)}"
            ]
          },
          "metadata": {},
          "execution_count": 29
        }
      ]
    },
    {
      "cell_type": "markdown",
      "source": [
        "**NMF**"
      ],
      "metadata": {
        "id": "xlOXamlR1ZKS"
      }
    },
    {
      "cell_type": "code",
      "source": [
        "param_grid = {\n",
        "    'n_factors': [10, 20, 30],\n",
        "    'n_epochs': [15, 25, 35]\n",
        "}\n",
        "nmf = grid_search(NMF, param_grid)\n",
        "print(f\"Best parameters: {nmf.best_params['rmse']}\")\n",
        "best_nmf = nmf.best_estimator['rmse']\n",
        "\n",
        "cross_validate(best_nmf, data, measures=['RMSE'], cv=5, verbose=True)"
      ],
      "metadata": {
        "colab": {
          "base_uri": "https://localhost:8080/"
        },
        "id": "Ro-_CUBGjZJT",
        "outputId": "f7843d81-8f4c-42e2-ba7a-ee8fefa7b0d8"
      },
      "execution_count": 28,
      "outputs": [
        {
          "output_type": "stream",
          "name": "stdout",
          "text": [
            "Best parameters: {'n_factors': 10, 'n_epochs': 35}\n",
            "Evaluating RMSE of algorithm NMF on 5 split(s).\n",
            "\n",
            "                  Fold 1  Fold 2  Fold 3  Fold 4  Fold 5  Mean    Std     \n",
            "RMSE (testset)    0.9766  0.9907  0.9697  0.9913  0.9764  0.9809  0.0086  \n",
            "Fit time          1.36    1.82    1.63    1.49    2.01    1.66    0.23    \n",
            "Test time         0.10    0.42    0.16    0.16    0.42    0.25    0.14    \n"
          ]
        },
        {
          "output_type": "execute_result",
          "data": {
            "text/plain": [
              "{'test_rmse': array([0.97663012, 0.99065234, 0.96968478, 0.99127963, 0.97635826]),\n",
              " 'fit_time': (1.361069917678833,\n",
              "  1.8182356357574463,\n",
              "  1.6293740272521973,\n",
              "  1.4929006099700928,\n",
              "  2.0058300495147705),\n",
              " 'test_time': (0.10020685195922852,\n",
              "  0.4242892265319824,\n",
              "  0.16177964210510254,\n",
              "  0.1614072322845459,\n",
              "  0.4223361015319824)}"
            ]
          },
          "metadata": {},
          "execution_count": 28
        }
      ]
    },
    {
      "cell_type": "markdown",
      "source": [
        "**Висновок**"
      ],
      "metadata": {
        "id": "EvmeZZk-CDHP"
      }
    },
    {
      "cell_type": "markdown",
      "source": [
        "Найточнішою виявилась SVDpp модель з середнім показником RMSE на 5 розбиттях в 0.91, але вона також виявилась найбільш ресурсо-затратною і показала найдовший час навчання і тестування даних. Порівнявши всі моделі можна сказати, що найбільш оптимальною є SVD модель, при якій RMSE практично рівна до RMSE в SVDpp моделі, але час навчання і тестування значно кращий."
      ],
      "metadata": {
        "id": "pZDUvfZWCHCR"
      }
    }
  ]
}