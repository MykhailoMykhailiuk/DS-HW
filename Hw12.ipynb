{
  "nbformat": 4,
  "nbformat_minor": 0,
  "metadata": {
    "colab": {
      "provenance": [],
      "authorship_tag": "ABX9TyO3HUymErgRyv1aLqDNXaeW",
      "include_colab_link": true
    },
    "kernelspec": {
      "name": "python3",
      "display_name": "Python 3"
    },
    "language_info": {
      "name": "python"
    }
  },
  "cells": [
    {
      "cell_type": "markdown",
      "metadata": {
        "id": "view-in-github",
        "colab_type": "text"
      },
      "source": [
        "<a href=\"https://colab.research.google.com/github/MykhailoMykhailiuk/DS-HW/blob/main/Hw12.ipynb\" target=\"_parent\"><img src=\"https://colab.research.google.com/assets/colab-badge.svg\" alt=\"Open In Colab\"/></a>"
      ]
    },
    {
      "cell_type": "code",
      "execution_count": 58,
      "metadata": {
        "id": "dQ_DUt8jupns"
      },
      "outputs": [],
      "source": [
        "import spacy\n",
        "import string\n",
        "import nltk\n",
        "from nltk.tokenize import word_tokenize, sent_tokenize\n",
        "from nltk.corpus import stopwords"
      ]
    },
    {
      "cell_type": "code",
      "source": [
        "nlp = spacy.load('en_core_web_sm')"
      ],
      "metadata": {
        "id": "FlqJ72zkvRH8"
      },
      "execution_count": 59,
      "outputs": []
    },
    {
      "cell_type": "code",
      "source": [
        "text = 'The Orbiter Discovery, OV-103, is considered eligible for listing in the National Register of Historic Places (NRHP) in the context of the U.S. Space Shuttle Program (1969-2011) under Criterion A in the areas of Space Exploration and Transportation and under Criterion C in the area of Engineering. Because it has achieved significance within the past fifty years, Criteria Consideration G applies. Under Criterion A, Discovery is significant as the oldest of the three extant orbiter vehicles constructed for the Space Shuttle Program (SSP), the longest running American space program to date; she was the third of five orbiters built by NASA. Unlike the Mercury, Gemini, and Apollo programs, the SSP’s emphasis was on cost effectiveness and reusability, and eventually the construction of a space station. Including her maiden voyage (launched August 30, 1984), Discovery flew to space thirty-nine times, more than any of the other four orbiters; she was also the first orbiter to fly twenty missions. She had the honor of being chosen as the Return to Flight vehicle after both the Challenger and Columbia accidents. Discovery was the first shuttle to fly with the redesigned SRBs, a result of the Challenger accident, and the first shuttle to fly with the Phase II and Block I SSME. Discovery also carried the Hubble Space Telescope to orbit and performed two of the five servicing missions to the observatory. She flew the first and last dedicated Department of Defense (DoD) missions, as well as the first unclassified defense-related mission. In addition, Discovery was vital to the construction of the International Space Station (ISS); she flew thirteen of the thirty-seven total missions flown to the station by a U.S. Space Shuttle. She was the first orbiter to dock to the ISS, and the first to perform an exchange of a resident crew. Under Criterion C, Discovery is significant as a feat of engineering. According to Wayne Hale, a flight director from Johnson Space Center, the Space Shuttle orbiter represents a “huge technological leap from expendable rockets and capsules to a reusable, winged, hypersonic, cargo-carrying spacecraft.” Although her base structure followed a conventional aircraft design, she used advanced materials that both minimized her weight for cargo-carrying purposes and featured low thermal expansion ratios, which provided a stable base for her Thermal Protection System (TPS) materials. The Space Shuttle orbiter also featured the first reusable TPS; all previous spaceflight vehicles had a single-use, ablative heat shield. Other notable engineering achievements of the orbiter included the first reusable orbital propulsion system, and the first two-fault-tolerant Integrated Avionics System. As Hale stated, the Space Shuttle remains “the largest, fastest, winged hypersonic aircraft in history,” having regularly flown at twenty-five times the speed of sound.'\n",
        "\n",
        "doc = nlp(text)\n",
        "tokens = [token.text for token in doc]\n",
        "print(tokens)"
      ],
      "metadata": {
        "colab": {
          "base_uri": "https://localhost:8080/"
        },
        "id": "Wfu7MLXivTg3",
        "outputId": "36b978b9-3657-4690-b62f-33b8fc782e78"
      },
      "execution_count": 60,
      "outputs": [
        {
          "output_type": "stream",
          "name": "stdout",
          "text": [
            "['The', 'Orbiter', 'Discovery', ',', 'OV-103', ',', 'is', 'considered', 'eligible', 'for', 'listing', 'in', 'the', 'National', 'Register', 'of', 'Historic', 'Places', '(', 'NRHP', ')', 'in', 'the', 'context', 'of', 'the', 'U.S.', 'Space', 'Shuttle', 'Program', '(', '1969', '-', '2011', ')', 'under', 'Criterion', 'A', 'in', 'the', 'areas', 'of', 'Space', 'Exploration', 'and', 'Transportation', 'and', 'under', 'Criterion', 'C', 'in', 'the', 'area', 'of', 'Engineering', '.', 'Because', 'it', 'has', 'achieved', 'significance', 'within', 'the', 'past', 'fifty', 'years', ',', 'Criteria', 'Consideration', 'G', 'applies', '.', 'Under', 'Criterion', 'A', ',', 'Discovery', 'is', 'significant', 'as', 'the', 'oldest', 'of', 'the', 'three', 'extant', 'orbiter', 'vehicles', 'constructed', 'for', 'the', 'Space', 'Shuttle', 'Program', '(', 'SSP', ')', ',', 'the', 'longest', 'running', 'American', 'space', 'program', 'to', 'date', ';', 'she', 'was', 'the', 'third', 'of', 'five', 'orbiters', 'built', 'by', 'NASA', '.', 'Unlike', 'the', 'Mercury', ',', 'Gemini', ',', 'and', 'Apollo', 'programs', ',', 'the', 'SSP', '’s', 'emphasis', 'was', 'on', 'cost', 'effectiveness', 'and', 'reusability', ',', 'and', 'eventually', 'the', 'construction', 'of', 'a', 'space', 'station', '.', 'Including', 'her', 'maiden', 'voyage', '(', 'launched', 'August', '30', ',', '1984', ')', ',', 'Discovery', 'flew', 'to', 'space', 'thirty', '-', 'nine', 'times', ',', 'more', 'than', 'any', 'of', 'the', 'other', 'four', 'orbiters', ';', 'she', 'was', 'also', 'the', 'first', 'orbiter', 'to', 'fly', 'twenty', 'missions', '.', 'She', 'had', 'the', 'honor', 'of', 'being', 'chosen', 'as', 'the', 'Return', 'to', 'Flight', 'vehicle', 'after', 'both', 'the', 'Challenger', 'and', 'Columbia', 'accidents', '.', 'Discovery', 'was', 'the', 'first', 'shuttle', 'to', 'fly', 'with', 'the', 'redesigned', 'SRBs', ',', 'a', 'result', 'of', 'the', 'Challenger', 'accident', ',', 'and', 'the', 'first', 'shuttle', 'to', 'fly', 'with', 'the', 'Phase', 'II', 'and', 'Block', 'I', 'SSME', '.', 'Discovery', 'also', 'carried', 'the', 'Hubble', 'Space', 'Telescope', 'to', 'orbit', 'and', 'performed', 'two', 'of', 'the', 'five', 'servicing', 'missions', 'to', 'the', 'observatory', '.', 'She', 'flew', 'the', 'first', 'and', 'last', 'dedicated', 'Department', 'of', 'Defense', '(', 'DoD', ')', 'missions', ',', 'as', 'well', 'as', 'the', 'first', 'unclassified', 'defense', '-', 'related', 'mission', '.', 'In', 'addition', ',', 'Discovery', 'was', 'vital', 'to', 'the', 'construction', 'of', 'the', 'International', 'Space', 'Station', '(', 'ISS', ')', ';', 'she', 'flew', 'thirteen', 'of', 'the', 'thirty', '-', 'seven', 'total', 'missions', 'flown', 'to', 'the', 'station', 'by', 'a', 'U.S.', 'Space', 'Shuttle', '.', 'She', 'was', 'the', 'first', 'orbiter', 'to', 'dock', 'to', 'the', 'ISS', ',', 'and', 'the', 'first', 'to', 'perform', 'an', 'exchange', 'of', 'a', 'resident', 'crew', '.', 'Under', 'Criterion', 'C', ',', 'Discovery', 'is', 'significant', 'as', 'a', 'feat', 'of', 'engineering', '.', 'According', 'to', 'Wayne', 'Hale', ',', 'a', 'flight', 'director', 'from', 'Johnson', 'Space', 'Center', ',', 'the', 'Space', 'Shuttle', 'orbiter', 'represents', 'a', '“', 'huge', 'technological', 'leap', 'from', 'expendable', 'rockets', 'and', 'capsules', 'to', 'a', 'reusable', ',', 'winged', ',', 'hypersonic', ',', 'cargo', '-', 'carrying', 'spacecraft', '.', '”', 'Although', 'her', 'base', 'structure', 'followed', 'a', 'conventional', 'aircraft', 'design', ',', 'she', 'used', 'advanced', 'materials', 'that', 'both', 'minimized', 'her', 'weight', 'for', 'cargo', '-', 'carrying', 'purposes', 'and', 'featured', 'low', 'thermal', 'expansion', 'ratios', ',', 'which', 'provided', 'a', 'stable', 'base', 'for', 'her', 'Thermal', 'Protection', 'System', '(', 'TPS', ')', 'materials', '.', 'The', 'Space', 'Shuttle', 'orbiter', 'also', 'featured', 'the', 'first', 'reusable', 'TPS', ';', 'all', 'previous', 'spaceflight', 'vehicles', 'had', 'a', 'single', '-', 'use', ',', 'ablative', 'heat', 'shield', '.', 'Other', 'notable', 'engineering', 'achievements', 'of', 'the', 'orbiter', 'included', 'the', 'first', 'reusable', 'orbital', 'propulsion', 'system', ',', 'and', 'the', 'first', 'two', '-', 'fault', '-', 'tolerant', 'Integrated', 'Avionics', 'System', '.', 'As', 'Hale', 'stated', ',', 'the', 'Space', 'Shuttle', 'remains', '“', 'the', 'largest', ',', 'fastest', ',', 'winged', 'hypersonic', 'aircraft', 'in', 'history', ',', '”', 'having', 'regularly', 'flown', 'at', 'twenty', '-', 'five', 'times', 'the', 'speed', 'of', 'sound', '.']\n"
          ]
        }
      ]
    },
    {
      "cell_type": "code",
      "source": [
        "nltk.download('punkt')\n",
        "nltk.download('stopwords')\n",
        "\n",
        "tokens = word_tokenize(text)\n",
        "sentences = sent_tokenize(text)\n",
        "stop_words = set(stopwords.words('english'))\n"
      ],
      "metadata": {
        "colab": {
          "base_uri": "https://localhost:8080/"
        },
        "id": "LfSVxPmTwK5v",
        "outputId": "f7480d74-aafe-4c05-fc8c-6d7dea6259dd"
      },
      "execution_count": 61,
      "outputs": [
        {
          "output_type": "stream",
          "name": "stderr",
          "text": [
            "[nltk_data] Downloading package punkt to /root/nltk_data...\n",
            "[nltk_data]   Package punkt is already up-to-date!\n",
            "[nltk_data] Downloading package stopwords to /root/nltk_data...\n",
            "[nltk_data]   Package stopwords is already up-to-date!\n"
          ]
        }
      ]
    },
    {
      "cell_type": "code",
      "source": [
        "from heapq import nlargest"
      ],
      "metadata": {
        "id": "iqkg4CTwzJAn"
      },
      "execution_count": 62,
      "outputs": []
    },
    {
      "cell_type": "code",
      "source": [
        "from sklearn.feature_extraction.text import TfidfVectorizer\n",
        "\n",
        "vectorizer = TfidfVectorizer()\n",
        "tfidf_matrix = vectorizer.fit_transform(sentences)\n",
        "sentence_scores = tfidf_matrix.sum(axis=1)\n",
        "\n",
        "tfidf_matrix.shape"
      ],
      "metadata": {
        "colab": {
          "base_uri": "https://localhost:8080/"
        },
        "id": "eNCzdwKnyk-T",
        "outputId": "0ca8ba91-fda0-421c-9230-02f77851f7fb"
      },
      "execution_count": 63,
      "outputs": [
        {
          "output_type": "execute_result",
          "data": {
            "text/plain": [
              "(16, 224)"
            ]
          },
          "metadata": {},
          "execution_count": 63
        }
      ]
    },
    {
      "cell_type": "code",
      "source": [
        "(tfidf_matrix == 0).sum() / (224*16)"
      ],
      "metadata": {
        "colab": {
          "base_uri": "https://localhost:8080/"
        },
        "id": "9HuTs-jg0jE-",
        "outputId": "5d051a18-f253-43e1-fede-a5d95041fbc2"
      },
      "execution_count": 64,
      "outputs": [
        {
          "output_type": "execute_result",
          "data": {
            "text/plain": [
              "0.8989955357142857"
            ]
          },
          "metadata": {},
          "execution_count": 64
        }
      ]
    },
    {
      "cell_type": "code",
      "source": [
        "sentence_scores"
      ],
      "metadata": {
        "colab": {
          "base_uri": "https://localhost:8080/"
        },
        "id": "IQ-vw0Lm0qGa",
        "outputId": "d2187bb6-12ee-42db-b181-2055847a4835"
      },
      "execution_count": 65,
      "outputs": [
        {
          "output_type": "execute_result",
          "data": {
            "text/plain": [
              "matrix([[5.10199561],\n",
              "        [3.54479668],\n",
              "        [5.41549487],\n",
              "        [4.23535378],\n",
              "        [5.43156646],\n",
              "        [4.11593843],\n",
              "        [4.10238186],\n",
              "        [3.98695505],\n",
              "        [3.858221  ],\n",
              "        [4.61180627],\n",
              "        [3.66503782],\n",
              "        [2.92185258],\n",
              "        [6.98616052],\n",
              "        [4.26671864],\n",
              "        [4.17609366],\n",
              "        [4.80132809]])"
            ]
          },
          "metadata": {},
          "execution_count": 65
        }
      ]
    },
    {
      "cell_type": "code",
      "source": [
        "select_length = int(len(sentences)*0.3)\n",
        "summary_index = nlargest(select_length, range(len(sentence_scores)), key=sentence_scores.__getitem__)\n",
        "summary = [sentences[i] for i in summary_index]"
      ],
      "metadata": {
        "id": "rvM90GsP0wV_"
      },
      "execution_count": 66,
      "outputs": []
    },
    {
      "cell_type": "code",
      "source": [
        "summary_index"
      ],
      "metadata": {
        "colab": {
          "base_uri": "https://localhost:8080/"
        },
        "id": "ZHjVlSj-1utN",
        "outputId": "3f8caabc-c956-40ae-8f1a-f418f967c679"
      },
      "execution_count": 67,
      "outputs": [
        {
          "output_type": "execute_result",
          "data": {
            "text/plain": [
              "[12, 4, 2, 0]"
            ]
          },
          "metadata": {},
          "execution_count": 67
        }
      ]
    },
    {
      "cell_type": "code",
      "source": [
        "summary = ' '.join(summary)\n",
        "print(summary)"
      ],
      "metadata": {
        "colab": {
          "base_uri": "https://localhost:8080/"
        },
        "id": "NeFxh8ti1xF2",
        "outputId": "5e9c4c67-8600-4dd0-de37-de7f5f310105"
      },
      "execution_count": 68,
      "outputs": [
        {
          "output_type": "stream",
          "name": "stdout",
          "text": [
            "According to Wayne Hale, a flight director from Johnson Space Center, the Space Shuttle orbiter represents a “huge technological leap from expendable rockets and capsules to a reusable, winged, hypersonic, cargo-carrying spacecraft.” Although her base structure followed a conventional aircraft design, she used advanced materials that both minimized her weight for cargo-carrying purposes and featured low thermal expansion ratios, which provided a stable base for her Thermal Protection System (TPS) materials. Including her maiden voyage (launched August 30, 1984), Discovery flew to space thirty-nine times, more than any of the other four orbiters; she was also the first orbiter to fly twenty missions. Under Criterion A, Discovery is significant as the oldest of the three extant orbiter vehicles constructed for the Space Shuttle Program (SSP), the longest running American space program to date; she was the third of five orbiters built by NASA. The Orbiter Discovery, OV-103, is considered eligible for listing in the National Register of Historic Places (NRHP) in the context of the U.S. Space Shuttle Program (1969-2011) under Criterion A in the areas of Space Exploration and Transportation and under Criterion C in the area of Engineering.\n"
          ]
        }
      ]
    }
  ]
}